{
 "cells": [
  {
   "cell_type": "markdown",
   "metadata": {},
   "source": [
    "## Spark basics Review\n",
    "#### Word count example"
   ]
  },
  {
   "cell_type": "code",
   "execution_count": 10,
   "metadata": {},
   "outputs": [
    {
     "name": "stdout",
     "output_type": "stream",
     "text": [
      "Overwriting /tmp/tmp.txt\n"
     ]
    }
   ],
   "source": [
    "%%writefile /tmp/tmp.txt\n",
    "this is a text file"
   ]
  },
  {
   "cell_type": "code",
   "execution_count": null,
   "metadata": {},
   "outputs": [],
   "source": [
    "# If you need to install spark\n",
    "!pip install  pyspark"
   ]
  },
  {
   "cell_type": "code",
   "execution_count": 3,
   "metadata": {},
   "outputs": [],
   "source": [
    "from pyspark.sql import SparkSession"
   ]
  },
  {
   "cell_type": "code",
   "execution_count": 4,
   "metadata": {},
   "outputs": [],
   "source": [
    "spark = SparkSession.builder.getOrCreate()"
   ]
  },
  {
   "cell_type": "code",
   "execution_count": 5,
   "metadata": {},
   "outputs": [],
   "source": [
    "sc = spark.sparkContext"
   ]
  },
  {
   "cell_type": "code",
   "execution_count": 6,
   "metadata": {},
   "outputs": [],
   "source": [
    "rdd = sc.textFile(\"/tmp/tmp.txt\")"
   ]
  },
  {
   "cell_type": "code",
   "execution_count": 8,
   "metadata": {},
   "outputs": [],
   "source": [
    "words_rdd = rdd.flatMap(lambda line: line.split()).map(lambda word: (word, 1))"
   ]
  },
  {
   "cell_type": "code",
   "execution_count": 9,
   "metadata": {},
   "outputs": [
    {
     "data": {
      "text/plain": [
       "defaultdict(int, {'this': 1, 'is': 1, 'a': 1, 'text': 1, 'file': 1})"
      ]
     },
     "execution_count": 9,
     "metadata": {},
     "output_type": "execute_result"
    }
   ],
   "source": [
    "words_rdd.countByKey()"
   ]
  },
  {
   "cell_type": "markdown",
   "metadata": {},
   "source": [
    "## Spark SQL\n",
    "\n",
    "* Download file from this [LINK](https://www.kaggle.com/promptcloud/careerbuilder-job-listing-2020/download)\n",
    "* Unzip the archive and put `marketing_sample_for_careerbuilder_usa-careerbuilder_job_listing__20200401_20200630__30k_data.ldjson` file in `data/raw`"
   ]
  },
  {
   "cell_type": "code",
   "execution_count": 1,
   "metadata": {},
   "outputs": [
    {
     "name": "stdout",
     "output_type": "stream",
     "text": [
      "marketing_sample_for_careerbuilder_usa-careerbuilder_job_listing__20200401_20200630__30k_data.ldjson\r\n"
     ]
    }
   ],
   "source": [
    "!ls data/raw"
   ]
  },
  {
   "cell_type": "code",
   "execution_count": 14,
   "metadata": {},
   "outputs": [],
   "source": [
    "df = spark.read.json(\"data/raw\")"
   ]
  },
  {
   "cell_type": "code",
   "execution_count": 47,
   "metadata": {},
   "outputs": [
    {
     "name": "stdout",
     "output_type": "stream",
     "text": [
      "root\n",
      " |-- city: string (nullable = true)\n",
      " |-- company_description: string (nullable = true)\n",
      " |-- company_name: string (nullable = true)\n",
      " |-- contact_email: string (nullable = true)\n",
      " |-- country: string (nullable = true)\n",
      " |-- crawl_timestamp: string (nullable = true)\n",
      " |-- domain: string (nullable = true)\n",
      " |-- duplicate_status: string (nullable = true)\n",
      " |-- fitness_score: long (nullable = true)\n",
      " |-- geo: string (nullable = true)\n",
      " |-- has_expired: string (nullable = true)\n",
      " |-- html_job_description: string (nullable = true)\n",
      " |-- inferred_city: string (nullable = true)\n",
      " |-- inferred_country: string (nullable = true)\n",
      " |-- inferred_iso2_lang_code: string (nullable = true)\n",
      " |-- inferred_iso3_lang_code: string (nullable = true)\n",
      " |-- inferred_salary_currency: string (nullable = true)\n",
      " |-- inferred_salary_from: string (nullable = true)\n",
      " |-- inferred_salary_time_unit: string (nullable = true)\n",
      " |-- inferred_salary_to: string (nullable = true)\n",
      " |-- inferred_state: string (nullable = true)\n",
      " |-- is_consumed_job: string (nullable = true)\n",
      " |-- job_board: string (nullable = true)\n",
      " |-- job_description: string (nullable = true)\n",
      " |-- job_post_lang: string (nullable = true)\n",
      " |-- job_requirements: string (nullable = true)\n",
      " |-- job_title: string (nullable = true)\n",
      " |-- job_type: string (nullable = true)\n",
      " |-- last_expiry_check_date: string (nullable = true)\n",
      " |-- latest_expiry_check_date: string (nullable = true)\n",
      " |-- post_date: string (nullable = true)\n",
      " |-- postdate_in_indexname_format: string (nullable = true)\n",
      " |-- postdate_yyyymmdd: string (nullable = true)\n",
      " |-- salary_offered: string (nullable = true)\n",
      " |-- site_name: string (nullable = true)\n",
      " |-- state: string (nullable = true)\n",
      " |-- test_contact_email: string (nullable = true)\n",
      " |-- uniq_id: string (nullable = true)\n",
      " |-- url: string (nullable = true)\n",
      " |-- valid_through: string (nullable = true)\n",
      "\n"
     ]
    }
   ],
   "source": [
    "df.printSchema()"
   ]
  },
  {
   "cell_type": "markdown",
   "metadata": {},
   "source": [
    "### Compute job offers per city: SQL example"
   ]
  },
  {
   "cell_type": "code",
   "execution_count": 26,
   "metadata": {},
   "outputs": [],
   "source": [
    "df.registerTempTable(\"jobs\")"
   ]
  },
  {
   "cell_type": "code",
   "execution_count": 28,
   "metadata": {},
   "outputs": [],
   "source": [
    "result_df = spark.sql(\"\"\"\n",
    "SELECT city, count(*) AS nb_jobs\n",
    "FROM jobs\n",
    "GROUP BY city\n",
    "\"\"\")"
   ]
  },
  {
   "cell_type": "code",
   "execution_count": 30,
   "metadata": {},
   "outputs": [
    {
     "name": "stdout",
     "output_type": "stream",
     "text": [
      "+-----------------+-------+\n",
      "|             city|nb_jobs|\n",
      "+-----------------+-------+\n",
      "|            Tyler|     18|\n",
      "|       Prattville|      2|\n",
      "|          Hanover|     32|\n",
      "|Kingsford Heights|      2|\n",
      "|           Nahant|      8|\n",
      "|        Worcester|     13|\n",
      "| North Saint Paul|      1|\n",
      "|           Agawam|      5|\n",
      "|        Fairbanks|      8|\n",
      "|            Leola|      1|\n",
      "|         Bluffton|      6|\n",
      "|      Middlefield|      1|\n",
      "|           Aitkin|      1|\n",
      "|          Jemison|      2|\n",
      "|     Saint George|      1|\n",
      "|           Grimes|      2|\n",
      "|           Bingen|      2|\n",
      "|     Harleysville|      2|\n",
      "|          Minster|      1|\n",
      "|      Springfield|    105|\n",
      "+-----------------+-------+\n",
      "only showing top 20 rows\n",
      "\n"
     ]
    }
   ],
   "source": [
    "result_df.show()"
   ]
  },
  {
   "cell_type": "markdown",
   "metadata": {},
   "source": [
    "### Compute job offers per city: Dataframe DSL example"
   ]
  },
  {
   "cell_type": "code",
   "execution_count": 34,
   "metadata": {},
   "outputs": [],
   "source": [
    "result_df = df.groupBy(\"city\").count()"
   ]
  },
  {
   "cell_type": "code",
   "execution_count": 35,
   "metadata": {},
   "outputs": [
    {
     "name": "stdout",
     "output_type": "stream",
     "text": [
      "+-----------------+-----+\n",
      "|             city|count|\n",
      "+-----------------+-----+\n",
      "|            Tyler|   18|\n",
      "|       Prattville|    2|\n",
      "|          Hanover|   32|\n",
      "|Kingsford Heights|    2|\n",
      "|           Nahant|    8|\n",
      "|        Worcester|   13|\n",
      "| North Saint Paul|    1|\n",
      "|           Agawam|    5|\n",
      "|        Fairbanks|    8|\n",
      "|            Leola|    1|\n",
      "|         Bluffton|    6|\n",
      "|      Middlefield|    1|\n",
      "|           Aitkin|    1|\n",
      "|          Jemison|    2|\n",
      "|     Saint George|    1|\n",
      "|           Grimes|    2|\n",
      "|           Bingen|    2|\n",
      "|     Harleysville|    2|\n",
      "|          Minster|    1|\n",
      "|      Springfield|  105|\n",
      "+-----------------+-----+\n",
      "only showing top 20 rows\n",
      "\n"
     ]
    }
   ],
   "source": [
    "result_df.show()"
   ]
  },
  {
   "cell_type": "markdown",
   "metadata": {},
   "source": [
    "### Write Dataframe"
   ]
  },
  {
   "cell_type": "markdown",
   "metadata": {},
   "source": [
    "#### CSV"
   ]
  },
  {
   "cell_type": "code",
   "execution_count": 40,
   "metadata": {},
   "outputs": [],
   "source": [
    "result_df.repartition(1).write.mode(\"overwrite\").csv(\"data/csv\")"
   ]
  },
  {
   "cell_type": "code",
   "execution_count": 41,
   "metadata": {},
   "outputs": [
    {
     "name": "stdout",
     "output_type": "stream",
     "text": [
      "_SUCCESS\r\n",
      "part-00000-08295fe3-95a6-4551-8635-7d0e68c341b0-c000.csv\r\n"
     ]
    }
   ],
   "source": [
    "!ls data/csv/"
   ]
  },
  {
   "cell_type": "markdown",
   "metadata": {},
   "source": [
    "#### Parquet"
   ]
  },
  {
   "cell_type": "code",
   "execution_count": 43,
   "metadata": {},
   "outputs": [],
   "source": [
    "result_df.write.mode(\"overwrite\").parquet(\"data/parquet\")"
   ]
  },
  {
   "cell_type": "code",
   "execution_count": 44,
   "metadata": {},
   "outputs": [
    {
     "name": "stdout",
     "output_type": "stream",
     "text": [
      "_SUCCESS\r\n",
      "part-00000-06c4417c-50c9-4a19-ab12-1f2b903ae5cb-c000.snappy.parquet\r\n",
      "part-00001-06c4417c-50c9-4a19-ab12-1f2b903ae5cb-c000.snappy.parquet\r\n",
      "part-00002-06c4417c-50c9-4a19-ab12-1f2b903ae5cb-c000.snappy.parquet\r\n",
      "part-00003-06c4417c-50c9-4a19-ab12-1f2b903ae5cb-c000.snappy.parquet\r\n",
      "part-00004-06c4417c-50c9-4a19-ab12-1f2b903ae5cb-c000.snappy.parquet\r\n",
      "part-00005-06c4417c-50c9-4a19-ab12-1f2b903ae5cb-c000.snappy.parquet\r\n",
      "part-00006-06c4417c-50c9-4a19-ab12-1f2b903ae5cb-c000.snappy.parquet\r\n",
      "part-00007-06c4417c-50c9-4a19-ab12-1f2b903ae5cb-c000.snappy.parquet\r\n",
      "part-00008-06c4417c-50c9-4a19-ab12-1f2b903ae5cb-c000.snappy.parquet\r\n",
      "part-00009-06c4417c-50c9-4a19-ab12-1f2b903ae5cb-c000.snappy.parquet\r\n",
      "part-00010-06c4417c-50c9-4a19-ab12-1f2b903ae5cb-c000.snappy.parquet\r\n",
      "part-00011-06c4417c-50c9-4a19-ab12-1f2b903ae5cb-c000.snappy.parquet\r\n",
      "part-00012-06c4417c-50c9-4a19-ab12-1f2b903ae5cb-c000.snappy.parquet\r\n",
      "part-00013-06c4417c-50c9-4a19-ab12-1f2b903ae5cb-c000.snappy.parquet\r\n",
      "part-00014-06c4417c-50c9-4a19-ab12-1f2b903ae5cb-c000.snappy.parquet\r\n",
      "part-00015-06c4417c-50c9-4a19-ab12-1f2b903ae5cb-c000.snappy.parquet\r\n",
      "part-00016-06c4417c-50c9-4a19-ab12-1f2b903ae5cb-c000.snappy.parquet\r\n",
      "part-00017-06c4417c-50c9-4a19-ab12-1f2b903ae5cb-c000.snappy.parquet\r\n",
      "part-00018-06c4417c-50c9-4a19-ab12-1f2b903ae5cb-c000.snappy.parquet\r\n",
      "part-00019-06c4417c-50c9-4a19-ab12-1f2b903ae5cb-c000.snappy.parquet\r\n",
      "part-00020-06c4417c-50c9-4a19-ab12-1f2b903ae5cb-c000.snappy.parquet\r\n",
      "part-00021-06c4417c-50c9-4a19-ab12-1f2b903ae5cb-c000.snappy.parquet\r\n",
      "part-00022-06c4417c-50c9-4a19-ab12-1f2b903ae5cb-c000.snappy.parquet\r\n",
      "part-00023-06c4417c-50c9-4a19-ab12-1f2b903ae5cb-c000.snappy.parquet\r\n",
      "part-00024-06c4417c-50c9-4a19-ab12-1f2b903ae5cb-c000.snappy.parquet\r\n",
      "part-00025-06c4417c-50c9-4a19-ab12-1f2b903ae5cb-c000.snappy.parquet\r\n",
      "part-00026-06c4417c-50c9-4a19-ab12-1f2b903ae5cb-c000.snappy.parquet\r\n",
      "part-00027-06c4417c-50c9-4a19-ab12-1f2b903ae5cb-c000.snappy.parquet\r\n",
      "part-00028-06c4417c-50c9-4a19-ab12-1f2b903ae5cb-c000.snappy.parquet\r\n",
      "part-00029-06c4417c-50c9-4a19-ab12-1f2b903ae5cb-c000.snappy.parquet\r\n",
      "part-00030-06c4417c-50c9-4a19-ab12-1f2b903ae5cb-c000.snappy.parquet\r\n",
      "part-00031-06c4417c-50c9-4a19-ab12-1f2b903ae5cb-c000.snappy.parquet\r\n",
      "part-00032-06c4417c-50c9-4a19-ab12-1f2b903ae5cb-c000.snappy.parquet\r\n",
      "part-00033-06c4417c-50c9-4a19-ab12-1f2b903ae5cb-c000.snappy.parquet\r\n",
      "part-00034-06c4417c-50c9-4a19-ab12-1f2b903ae5cb-c000.snappy.parquet\r\n",
      "part-00035-06c4417c-50c9-4a19-ab12-1f2b903ae5cb-c000.snappy.parquet\r\n",
      "part-00036-06c4417c-50c9-4a19-ab12-1f2b903ae5cb-c000.snappy.parquet\r\n",
      "part-00037-06c4417c-50c9-4a19-ab12-1f2b903ae5cb-c000.snappy.parquet\r\n",
      "part-00038-06c4417c-50c9-4a19-ab12-1f2b903ae5cb-c000.snappy.parquet\r\n",
      "part-00039-06c4417c-50c9-4a19-ab12-1f2b903ae5cb-c000.snappy.parquet\r\n",
      "part-00040-06c4417c-50c9-4a19-ab12-1f2b903ae5cb-c000.snappy.parquet\r\n",
      "part-00041-06c4417c-50c9-4a19-ab12-1f2b903ae5cb-c000.snappy.parquet\r\n",
      "part-00042-06c4417c-50c9-4a19-ab12-1f2b903ae5cb-c000.snappy.parquet\r\n",
      "part-00043-06c4417c-50c9-4a19-ab12-1f2b903ae5cb-c000.snappy.parquet\r\n",
      "part-00044-06c4417c-50c9-4a19-ab12-1f2b903ae5cb-c000.snappy.parquet\r\n",
      "part-00045-06c4417c-50c9-4a19-ab12-1f2b903ae5cb-c000.snappy.parquet\r\n",
      "part-00046-06c4417c-50c9-4a19-ab12-1f2b903ae5cb-c000.snappy.parquet\r\n",
      "part-00047-06c4417c-50c9-4a19-ab12-1f2b903ae5cb-c000.snappy.parquet\r\n",
      "part-00048-06c4417c-50c9-4a19-ab12-1f2b903ae5cb-c000.snappy.parquet\r\n",
      "part-00049-06c4417c-50c9-4a19-ab12-1f2b903ae5cb-c000.snappy.parquet\r\n",
      "part-00050-06c4417c-50c9-4a19-ab12-1f2b903ae5cb-c000.snappy.parquet\r\n",
      "part-00051-06c4417c-50c9-4a19-ab12-1f2b903ae5cb-c000.snappy.parquet\r\n",
      "part-00052-06c4417c-50c9-4a19-ab12-1f2b903ae5cb-c000.snappy.parquet\r\n",
      "part-00053-06c4417c-50c9-4a19-ab12-1f2b903ae5cb-c000.snappy.parquet\r\n",
      "part-00054-06c4417c-50c9-4a19-ab12-1f2b903ae5cb-c000.snappy.parquet\r\n",
      "part-00055-06c4417c-50c9-4a19-ab12-1f2b903ae5cb-c000.snappy.parquet\r\n",
      "part-00056-06c4417c-50c9-4a19-ab12-1f2b903ae5cb-c000.snappy.parquet\r\n",
      "part-00057-06c4417c-50c9-4a19-ab12-1f2b903ae5cb-c000.snappy.parquet\r\n",
      "part-00058-06c4417c-50c9-4a19-ab12-1f2b903ae5cb-c000.snappy.parquet\r\n",
      "part-00059-06c4417c-50c9-4a19-ab12-1f2b903ae5cb-c000.snappy.parquet\r\n",
      "part-00060-06c4417c-50c9-4a19-ab12-1f2b903ae5cb-c000.snappy.parquet\r\n",
      "part-00061-06c4417c-50c9-4a19-ab12-1f2b903ae5cb-c000.snappy.parquet\r\n",
      "part-00062-06c4417c-50c9-4a19-ab12-1f2b903ae5cb-c000.snappy.parquet\r\n",
      "part-00063-06c4417c-50c9-4a19-ab12-1f2b903ae5cb-c000.snappy.parquet\r\n",
      "part-00064-06c4417c-50c9-4a19-ab12-1f2b903ae5cb-c000.snappy.parquet\r\n",
      "part-00065-06c4417c-50c9-4a19-ab12-1f2b903ae5cb-c000.snappy.parquet\r\n",
      "part-00066-06c4417c-50c9-4a19-ab12-1f2b903ae5cb-c000.snappy.parquet\r\n",
      "part-00067-06c4417c-50c9-4a19-ab12-1f2b903ae5cb-c000.snappy.parquet\r\n",
      "part-00068-06c4417c-50c9-4a19-ab12-1f2b903ae5cb-c000.snappy.parquet\r\n",
      "part-00069-06c4417c-50c9-4a19-ab12-1f2b903ae5cb-c000.snappy.parquet\r\n",
      "part-00070-06c4417c-50c9-4a19-ab12-1f2b903ae5cb-c000.snappy.parquet\r\n",
      "part-00071-06c4417c-50c9-4a19-ab12-1f2b903ae5cb-c000.snappy.parquet\r\n",
      "part-00072-06c4417c-50c9-4a19-ab12-1f2b903ae5cb-c000.snappy.parquet\r\n",
      "part-00073-06c4417c-50c9-4a19-ab12-1f2b903ae5cb-c000.snappy.parquet\r\n",
      "part-00074-06c4417c-50c9-4a19-ab12-1f2b903ae5cb-c000.snappy.parquet\r\n",
      "part-00075-06c4417c-50c9-4a19-ab12-1f2b903ae5cb-c000.snappy.parquet\r\n",
      "part-00076-06c4417c-50c9-4a19-ab12-1f2b903ae5cb-c000.snappy.parquet\r\n",
      "part-00077-06c4417c-50c9-4a19-ab12-1f2b903ae5cb-c000.snappy.parquet\r\n",
      "part-00078-06c4417c-50c9-4a19-ab12-1f2b903ae5cb-c000.snappy.parquet\r\n",
      "part-00079-06c4417c-50c9-4a19-ab12-1f2b903ae5cb-c000.snappy.parquet\r\n",
      "part-00080-06c4417c-50c9-4a19-ab12-1f2b903ae5cb-c000.snappy.parquet\r\n",
      "part-00081-06c4417c-50c9-4a19-ab12-1f2b903ae5cb-c000.snappy.parquet\r\n",
      "part-00082-06c4417c-50c9-4a19-ab12-1f2b903ae5cb-c000.snappy.parquet\r\n",
      "part-00083-06c4417c-50c9-4a19-ab12-1f2b903ae5cb-c000.snappy.parquet\r\n",
      "part-00084-06c4417c-50c9-4a19-ab12-1f2b903ae5cb-c000.snappy.parquet\r\n",
      "part-00085-06c4417c-50c9-4a19-ab12-1f2b903ae5cb-c000.snappy.parquet\r\n",
      "part-00086-06c4417c-50c9-4a19-ab12-1f2b903ae5cb-c000.snappy.parquet\r\n",
      "part-00087-06c4417c-50c9-4a19-ab12-1f2b903ae5cb-c000.snappy.parquet\r\n",
      "part-00088-06c4417c-50c9-4a19-ab12-1f2b903ae5cb-c000.snappy.parquet\r\n",
      "part-00089-06c4417c-50c9-4a19-ab12-1f2b903ae5cb-c000.snappy.parquet\r\n",
      "part-00090-06c4417c-50c9-4a19-ab12-1f2b903ae5cb-c000.snappy.parquet\r\n",
      "part-00091-06c4417c-50c9-4a19-ab12-1f2b903ae5cb-c000.snappy.parquet\r\n",
      "part-00092-06c4417c-50c9-4a19-ab12-1f2b903ae5cb-c000.snappy.parquet\r\n",
      "part-00093-06c4417c-50c9-4a19-ab12-1f2b903ae5cb-c000.snappy.parquet\r\n",
      "part-00094-06c4417c-50c9-4a19-ab12-1f2b903ae5cb-c000.snappy.parquet\r\n",
      "part-00095-06c4417c-50c9-4a19-ab12-1f2b903ae5cb-c000.snappy.parquet\r\n",
      "part-00096-06c4417c-50c9-4a19-ab12-1f2b903ae5cb-c000.snappy.parquet\r\n",
      "part-00097-06c4417c-50c9-4a19-ab12-1f2b903ae5cb-c000.snappy.parquet\r\n",
      "part-00098-06c4417c-50c9-4a19-ab12-1f2b903ae5cb-c000.snappy.parquet\r\n",
      "part-00099-06c4417c-50c9-4a19-ab12-1f2b903ae5cb-c000.snappy.parquet\r\n",
      "part-00100-06c4417c-50c9-4a19-ab12-1f2b903ae5cb-c000.snappy.parquet\r\n",
      "part-00101-06c4417c-50c9-4a19-ab12-1f2b903ae5cb-c000.snappy.parquet\r\n",
      "part-00102-06c4417c-50c9-4a19-ab12-1f2b903ae5cb-c000.snappy.parquet\r\n",
      "part-00103-06c4417c-50c9-4a19-ab12-1f2b903ae5cb-c000.snappy.parquet\r\n",
      "part-00104-06c4417c-50c9-4a19-ab12-1f2b903ae5cb-c000.snappy.parquet\r\n",
      "part-00105-06c4417c-50c9-4a19-ab12-1f2b903ae5cb-c000.snappy.parquet\r\n",
      "part-00106-06c4417c-50c9-4a19-ab12-1f2b903ae5cb-c000.snappy.parquet\r\n",
      "part-00107-06c4417c-50c9-4a19-ab12-1f2b903ae5cb-c000.snappy.parquet\r\n",
      "part-00108-06c4417c-50c9-4a19-ab12-1f2b903ae5cb-c000.snappy.parquet\r\n",
      "part-00109-06c4417c-50c9-4a19-ab12-1f2b903ae5cb-c000.snappy.parquet\r\n",
      "part-00110-06c4417c-50c9-4a19-ab12-1f2b903ae5cb-c000.snappy.parquet\r\n",
      "part-00111-06c4417c-50c9-4a19-ab12-1f2b903ae5cb-c000.snappy.parquet\r\n",
      "part-00112-06c4417c-50c9-4a19-ab12-1f2b903ae5cb-c000.snappy.parquet\r\n",
      "part-00113-06c4417c-50c9-4a19-ab12-1f2b903ae5cb-c000.snappy.parquet\r\n",
      "part-00114-06c4417c-50c9-4a19-ab12-1f2b903ae5cb-c000.snappy.parquet\r\n",
      "part-00115-06c4417c-50c9-4a19-ab12-1f2b903ae5cb-c000.snappy.parquet\r\n",
      "part-00116-06c4417c-50c9-4a19-ab12-1f2b903ae5cb-c000.snappy.parquet\r\n",
      "part-00117-06c4417c-50c9-4a19-ab12-1f2b903ae5cb-c000.snappy.parquet\r\n",
      "part-00118-06c4417c-50c9-4a19-ab12-1f2b903ae5cb-c000.snappy.parquet\r\n",
      "part-00119-06c4417c-50c9-4a19-ab12-1f2b903ae5cb-c000.snappy.parquet\r\n",
      "part-00120-06c4417c-50c9-4a19-ab12-1f2b903ae5cb-c000.snappy.parquet\r\n",
      "part-00121-06c4417c-50c9-4a19-ab12-1f2b903ae5cb-c000.snappy.parquet\r\n",
      "part-00122-06c4417c-50c9-4a19-ab12-1f2b903ae5cb-c000.snappy.parquet\r\n",
      "part-00123-06c4417c-50c9-4a19-ab12-1f2b903ae5cb-c000.snappy.parquet\r\n",
      "part-00124-06c4417c-50c9-4a19-ab12-1f2b903ae5cb-c000.snappy.parquet\r\n",
      "part-00125-06c4417c-50c9-4a19-ab12-1f2b903ae5cb-c000.snappy.parquet\r\n",
      "part-00126-06c4417c-50c9-4a19-ab12-1f2b903ae5cb-c000.snappy.parquet\r\n",
      "part-00127-06c4417c-50c9-4a19-ab12-1f2b903ae5cb-c000.snappy.parquet\r\n",
      "part-00128-06c4417c-50c9-4a19-ab12-1f2b903ae5cb-c000.snappy.parquet\r\n",
      "part-00129-06c4417c-50c9-4a19-ab12-1f2b903ae5cb-c000.snappy.parquet\r\n",
      "part-00130-06c4417c-50c9-4a19-ab12-1f2b903ae5cb-c000.snappy.parquet\r\n",
      "part-00131-06c4417c-50c9-4a19-ab12-1f2b903ae5cb-c000.snappy.parquet\r\n",
      "part-00132-06c4417c-50c9-4a19-ab12-1f2b903ae5cb-c000.snappy.parquet\r\n",
      "part-00133-06c4417c-50c9-4a19-ab12-1f2b903ae5cb-c000.snappy.parquet\r\n",
      "part-00134-06c4417c-50c9-4a19-ab12-1f2b903ae5cb-c000.snappy.parquet\r\n",
      "part-00135-06c4417c-50c9-4a19-ab12-1f2b903ae5cb-c000.snappy.parquet\r\n",
      "part-00136-06c4417c-50c9-4a19-ab12-1f2b903ae5cb-c000.snappy.parquet\r\n",
      "part-00137-06c4417c-50c9-4a19-ab12-1f2b903ae5cb-c000.snappy.parquet\r\n",
      "part-00138-06c4417c-50c9-4a19-ab12-1f2b903ae5cb-c000.snappy.parquet\r\n",
      "part-00139-06c4417c-50c9-4a19-ab12-1f2b903ae5cb-c000.snappy.parquet\r\n",
      "part-00140-06c4417c-50c9-4a19-ab12-1f2b903ae5cb-c000.snappy.parquet\r\n",
      "part-00141-06c4417c-50c9-4a19-ab12-1f2b903ae5cb-c000.snappy.parquet\r\n",
      "part-00142-06c4417c-50c9-4a19-ab12-1f2b903ae5cb-c000.snappy.parquet\r\n",
      "part-00143-06c4417c-50c9-4a19-ab12-1f2b903ae5cb-c000.snappy.parquet\r\n",
      "part-00144-06c4417c-50c9-4a19-ab12-1f2b903ae5cb-c000.snappy.parquet\r\n",
      "part-00145-06c4417c-50c9-4a19-ab12-1f2b903ae5cb-c000.snappy.parquet\r\n",
      "part-00146-06c4417c-50c9-4a19-ab12-1f2b903ae5cb-c000.snappy.parquet\r\n",
      "part-00147-06c4417c-50c9-4a19-ab12-1f2b903ae5cb-c000.snappy.parquet\r\n",
      "part-00148-06c4417c-50c9-4a19-ab12-1f2b903ae5cb-c000.snappy.parquet\r\n",
      "part-00149-06c4417c-50c9-4a19-ab12-1f2b903ae5cb-c000.snappy.parquet\r\n",
      "part-00150-06c4417c-50c9-4a19-ab12-1f2b903ae5cb-c000.snappy.parquet\r\n",
      "part-00151-06c4417c-50c9-4a19-ab12-1f2b903ae5cb-c000.snappy.parquet\r\n",
      "part-00152-06c4417c-50c9-4a19-ab12-1f2b903ae5cb-c000.snappy.parquet\r\n",
      "part-00153-06c4417c-50c9-4a19-ab12-1f2b903ae5cb-c000.snappy.parquet\r\n",
      "part-00154-06c4417c-50c9-4a19-ab12-1f2b903ae5cb-c000.snappy.parquet\r\n",
      "part-00155-06c4417c-50c9-4a19-ab12-1f2b903ae5cb-c000.snappy.parquet\r\n",
      "part-00156-06c4417c-50c9-4a19-ab12-1f2b903ae5cb-c000.snappy.parquet\r\n",
      "part-00157-06c4417c-50c9-4a19-ab12-1f2b903ae5cb-c000.snappy.parquet\r\n",
      "part-00158-06c4417c-50c9-4a19-ab12-1f2b903ae5cb-c000.snappy.parquet\r\n",
      "part-00159-06c4417c-50c9-4a19-ab12-1f2b903ae5cb-c000.snappy.parquet\r\n",
      "part-00160-06c4417c-50c9-4a19-ab12-1f2b903ae5cb-c000.snappy.parquet\r\n",
      "part-00161-06c4417c-50c9-4a19-ab12-1f2b903ae5cb-c000.snappy.parquet\r\n",
      "part-00162-06c4417c-50c9-4a19-ab12-1f2b903ae5cb-c000.snappy.parquet\r\n",
      "part-00163-06c4417c-50c9-4a19-ab12-1f2b903ae5cb-c000.snappy.parquet\r\n",
      "part-00164-06c4417c-50c9-4a19-ab12-1f2b903ae5cb-c000.snappy.parquet\r\n",
      "part-00165-06c4417c-50c9-4a19-ab12-1f2b903ae5cb-c000.snappy.parquet\r\n",
      "part-00166-06c4417c-50c9-4a19-ab12-1f2b903ae5cb-c000.snappy.parquet\r\n",
      "part-00167-06c4417c-50c9-4a19-ab12-1f2b903ae5cb-c000.snappy.parquet\r\n",
      "part-00168-06c4417c-50c9-4a19-ab12-1f2b903ae5cb-c000.snappy.parquet\r\n",
      "part-00169-06c4417c-50c9-4a19-ab12-1f2b903ae5cb-c000.snappy.parquet\r\n",
      "part-00170-06c4417c-50c9-4a19-ab12-1f2b903ae5cb-c000.snappy.parquet\r\n",
      "part-00171-06c4417c-50c9-4a19-ab12-1f2b903ae5cb-c000.snappy.parquet\r\n",
      "part-00172-06c4417c-50c9-4a19-ab12-1f2b903ae5cb-c000.snappy.parquet\r\n",
      "part-00173-06c4417c-50c9-4a19-ab12-1f2b903ae5cb-c000.snappy.parquet\r\n",
      "part-00174-06c4417c-50c9-4a19-ab12-1f2b903ae5cb-c000.snappy.parquet\r\n",
      "part-00175-06c4417c-50c9-4a19-ab12-1f2b903ae5cb-c000.snappy.parquet\r\n",
      "part-00176-06c4417c-50c9-4a19-ab12-1f2b903ae5cb-c000.snappy.parquet\r\n",
      "part-00177-06c4417c-50c9-4a19-ab12-1f2b903ae5cb-c000.snappy.parquet\r\n",
      "part-00178-06c4417c-50c9-4a19-ab12-1f2b903ae5cb-c000.snappy.parquet\r\n",
      "part-00179-06c4417c-50c9-4a19-ab12-1f2b903ae5cb-c000.snappy.parquet\r\n",
      "part-00180-06c4417c-50c9-4a19-ab12-1f2b903ae5cb-c000.snappy.parquet\r\n",
      "part-00181-06c4417c-50c9-4a19-ab12-1f2b903ae5cb-c000.snappy.parquet\r\n",
      "part-00182-06c4417c-50c9-4a19-ab12-1f2b903ae5cb-c000.snappy.parquet\r\n",
      "part-00183-06c4417c-50c9-4a19-ab12-1f2b903ae5cb-c000.snappy.parquet\r\n",
      "part-00184-06c4417c-50c9-4a19-ab12-1f2b903ae5cb-c000.snappy.parquet\r\n",
      "part-00185-06c4417c-50c9-4a19-ab12-1f2b903ae5cb-c000.snappy.parquet\r\n",
      "part-00186-06c4417c-50c9-4a19-ab12-1f2b903ae5cb-c000.snappy.parquet\r\n",
      "part-00187-06c4417c-50c9-4a19-ab12-1f2b903ae5cb-c000.snappy.parquet\r\n",
      "part-00188-06c4417c-50c9-4a19-ab12-1f2b903ae5cb-c000.snappy.parquet\r\n",
      "part-00189-06c4417c-50c9-4a19-ab12-1f2b903ae5cb-c000.snappy.parquet\r\n",
      "part-00190-06c4417c-50c9-4a19-ab12-1f2b903ae5cb-c000.snappy.parquet\r\n",
      "part-00191-06c4417c-50c9-4a19-ab12-1f2b903ae5cb-c000.snappy.parquet\r\n",
      "part-00192-06c4417c-50c9-4a19-ab12-1f2b903ae5cb-c000.snappy.parquet\r\n",
      "part-00193-06c4417c-50c9-4a19-ab12-1f2b903ae5cb-c000.snappy.parquet\r\n",
      "part-00194-06c4417c-50c9-4a19-ab12-1f2b903ae5cb-c000.snappy.parquet\r\n",
      "part-00195-06c4417c-50c9-4a19-ab12-1f2b903ae5cb-c000.snappy.parquet\r\n",
      "part-00196-06c4417c-50c9-4a19-ab12-1f2b903ae5cb-c000.snappy.parquet\r\n",
      "part-00197-06c4417c-50c9-4a19-ab12-1f2b903ae5cb-c000.snappy.parquet\r\n",
      "part-00198-06c4417c-50c9-4a19-ab12-1f2b903ae5cb-c000.snappy.parquet\r\n",
      "part-00199-06c4417c-50c9-4a19-ab12-1f2b903ae5cb-c000.snappy.parquet\r\n"
     ]
    }
   ],
   "source": [
    "!ls data/parquet/"
   ]
  },
  {
   "cell_type": "markdown",
   "metadata": {},
   "source": [
    "### Filter clause"
   ]
  },
  {
   "cell_type": "code",
   "execution_count": 46,
   "metadata": {},
   "outputs": [
    {
     "data": {
      "text/plain": [
       "18"
      ]
     },
     "execution_count": 46,
     "metadata": {},
     "output_type": "execute_result"
    }
   ],
   "source": [
    "df.filter(df[\"city\"] == \"Tyler\").count()"
   ]
  },
  {
   "cell_type": "code",
   "execution_count": 48,
   "metadata": {},
   "outputs": [
    {
     "name": "stdout",
     "output_type": "stream",
     "text": [
      "+--------------------+------------------+\n",
      "|                city|inferred_salary_to|\n",
      "+--------------------+------------------+\n",
      "|             Houston|              null|\n",
      "|          Cincinnati|              null|\n",
      "|             Peabody|              null|\n",
      "|             Villard|             14.00|\n",
      "|           Anchorage|              null|\n",
      "|              Urbana|              null|\n",
      "|South Brunswick T...|              null|\n",
      "|              Gretna|              null|\n",
      "|            Stockton|              null|\n",
      "|               Tampa|              null|\n",
      "|               Tulsa|              null|\n",
      "|             Seattle|              null|\n",
      "|          Hagerstown|         62,000.00|\n",
      "|          Long Beach|              null|\n",
      "|              Keyser|              null|\n",
      "|       Coral Springs|              null|\n",
      "|             Seattle|              null|\n",
      "|               Union|              null|\n",
      "|            Fountain|              null|\n",
      "|              Woburn|              null|\n",
      "+--------------------+------------------+\n",
      "only showing top 20 rows\n",
      "\n"
     ]
    }
   ],
   "source": [
    "df.select(df[\"city\"], df[\"inferred_salary_to\"]).show()"
   ]
  },
  {
   "cell_type": "markdown",
   "metadata": {},
   "source": [
    "### Exercice 3"
   ]
  },
  {
   "cell_type": "code",
   "execution_count": 57,
   "metadata": {},
   "outputs": [],
   "source": [
    "from pyspark.sql import functions as fn"
   ]
  },
  {
   "cell_type": "code",
   "execution_count": 58,
   "metadata": {},
   "outputs": [
    {
     "data": {
      "text/plain": [
       "<function pyspark.sql.functions.min(col)>"
      ]
     },
     "execution_count": 58,
     "metadata": {},
     "output_type": "execute_result"
    }
   ],
   "source": [
    "fn.min"
   ]
  },
  {
   "cell_type": "code",
   "execution_count": null,
   "metadata": {},
   "outputs": [],
   "source": []
  },
  {
   "cell_type": "code",
   "execution_count": 49,
   "metadata": {},
   "outputs": [],
   "source": [
    "jobs_per_city_df = df.groupBy(\"city\").count()"
   ]
  },
  {
   "cell_type": "code",
   "execution_count": 54,
   "metadata": {},
   "outputs": [],
   "source": [
    "recent_100_post = df.orderBy(\"post_date\").limit(100)#.select(min()).show()"
   ]
  },
  {
   "cell_type": "code",
   "execution_count": 60,
   "metadata": {},
   "outputs": [
    {
     "name": "stdout",
     "output_type": "stream",
     "text": [
      "+--------------+--------------+\n",
      "|min(post_date)|max(post_date)|\n",
      "+--------------+--------------+\n",
      "|    2020-03-30|    2020-03-31|\n",
      "+--------------+--------------+\n",
      "\n"
     ]
    }
   ],
   "source": [
    "recent_100_post.select(fn.min(recent_100_post.post_date), fn.max(recent_100_post.post_date)).show()"
   ]
  },
  {
   "cell_type": "code",
   "execution_count": 61,
   "metadata": {},
   "outputs": [],
   "source": [
    "recent_100_post.write.csv(\"data/most_recent\")"
   ]
  },
  {
   "cell_type": "markdown",
   "metadata": {},
   "source": [
    "#### Compte top 3 city having the more job posts"
   ]
  },
  {
   "cell_type": "code",
   "execution_count": 67,
   "metadata": {},
   "outputs": [
    {
     "name": "stdout",
     "output_type": "stream",
     "text": [
      "+---------+-----+\n",
      "|     city|count|\n",
      "+---------+-----+\n",
      "|   Boston|  262|\n",
      "|  Chicago|  218|\n",
      "|Charlotte|  216|\n",
      "+---------+-----+\n",
      "\n"
     ]
    }
   ],
   "source": [
    "top_3_cities_with_jobs = jobs_per_city_df.orderBy(\"count\", ascending=False).limit(3)\n",
    "top_3_cities_with_jobs.show()"
   ]
  },
  {
   "cell_type": "markdown",
   "metadata": {},
   "source": [
    "#### Display offers in top 3 citys\n",
    "##### Solution 1"
   ]
  },
  {
   "cell_type": "code",
   "execution_count": null,
   "metadata": {},
   "outputs": [],
   "source": [
    "df.registerTempTable(\"jobs\")"
   ]
  },
  {
   "cell_type": "code",
   "execution_count": 74,
   "metadata": {},
   "outputs": [],
   "source": [
    "sql_query = \"\"\"\n",
    "SELECT job_title, company_name, city \n",
    "FROM jobs\n",
    "WHERE city = \"Boston\" OR city = \"Chicago\" OR city = \"Charlotte\"\n",
    "\"\"\""
   ]
  },
  {
   "cell_type": "code",
   "execution_count": 75,
   "metadata": {},
   "outputs": [
    {
     "name": "stdout",
     "output_type": "stream",
     "text": [
      "+--------------------+--------------------+---------+\n",
      "|           job_title|        company_name|     city|\n",
      "+--------------------+--------------------+---------+\n",
      "|Junior Software D...|          Skillstorm|  Chicago|\n",
      "|Warehouse Operato...|  Amazon Fulfillment|   Boston|\n",
      "|Amazon Warehouse ...|  Amazon Fulfillment|   Boston|\n",
      "|Delivery Driver- ...|Industrial Staffi...|Charlotte|\n",
      "|Global Clinical L...|                GPAC|   Boston|\n",
      "|Amazon Warehouse ...|  Amazon Fulfillment|   Boston|\n",
      "|Telephone Line Wo...|Chicago Transit A...|  Chicago|\n",
      "|Full-time/Part-ti...|  Amazon Fulfillment|   Boston|\n",
      "|Project Manager (...|             Intrado|  Chicago|\n",
      "|Amazon Prime Shopper|  Amazon Fulfillment|   Boston|\n",
      "|Customer Service ...|   Mommy Jobs Online|Charlotte|\n",
      "|Forklift Operator...|  Abacus Corporation|Charlotte|\n",
      "|Registered Nurse ...|Favorite Healthca...|   Boston|\n",
      "|         UX Designer|Signature Consult...|Charlotte|\n",
      "|Senior Sales Manager|PointOne Recruiti...|  Chicago|\n",
      "|     Warehouse Staff|                Levy|Charlotte|\n",
      "|      GIS Technician|            Kavaliro|Charlotte|\n",
      "|Amazon Warehouse ...|  Amazon Fulfillment|   Boston|\n",
      "|PHARMA STAFF ACCO...|                GPAC|   Boston|\n",
      "|Amazon Warehouse ...|  Amazon Fulfillment|   Boston|\n",
      "+--------------------+--------------------+---------+\n",
      "only showing top 20 rows\n",
      "\n"
     ]
    }
   ],
   "source": [
    "spark.sql(sql_query).show()"
   ]
  },
  {
   "cell_type": "markdown",
   "metadata": {},
   "source": [
    "##### Solution 2"
   ]
  },
  {
   "cell_type": "code",
   "execution_count": 77,
   "metadata": {},
   "outputs": [],
   "source": [
    "sql_query = \"\"\"\n",
    "SELECT job_title, company_name, city \n",
    "FROM jobs\n",
    "WHERE city IN (\"Boston\", \"Chicago\", \"Charlotte\")\n",
    "\"\"\""
   ]
  },
  {
   "cell_type": "code",
   "execution_count": 78,
   "metadata": {},
   "outputs": [
    {
     "name": "stdout",
     "output_type": "stream",
     "text": [
      "+--------------------+------------------+-------+\n",
      "|           job_title|      company_name|   city|\n",
      "+--------------------+------------------+-------+\n",
      "|Junior Software D...|        Skillstorm|Chicago|\n",
      "|Warehouse Operato...|Amazon Fulfillment| Boston|\n",
      "+--------------------+------------------+-------+\n",
      "only showing top 2 rows\n",
      "\n"
     ]
    }
   ],
   "source": [
    "spark.sql(sql_query).show(2)"
   ]
  },
  {
   "cell_type": "markdown",
   "metadata": {},
   "source": [
    "##### Solution 3"
   ]
  },
  {
   "cell_type": "code",
   "execution_count": 80,
   "metadata": {},
   "outputs": [],
   "source": [
    "top_3_cities_with_jobs.registerTempTable(\"top_3_cities_with_jobs\")"
   ]
  },
  {
   "cell_type": "code",
   "execution_count": 82,
   "metadata": {},
   "outputs": [],
   "source": [
    "sql_query = \"\"\"\n",
    "SELECT job_title, company_name, city \n",
    "FROM jobs\n",
    "WHERE city IN (SELECT city FROM top_3_cities_with_jobs)\n",
    "\"\"\""
   ]
  },
  {
   "cell_type": "code",
   "execution_count": 83,
   "metadata": {},
   "outputs": [
    {
     "name": "stdout",
     "output_type": "stream",
     "text": [
      "+--------------------+------------------+-------+\n",
      "|           job_title|      company_name|   city|\n",
      "+--------------------+------------------+-------+\n",
      "|Junior Software D...|        Skillstorm|Chicago|\n",
      "|Warehouse Operato...|Amazon Fulfillment| Boston|\n",
      "+--------------------+------------------+-------+\n",
      "only showing top 2 rows\n",
      "\n"
     ]
    }
   ],
   "source": [
    "spark.sql(sql_query).show(2)"
   ]
  },
  {
   "cell_type": "markdown",
   "metadata": {},
   "source": [
    "##### Solution 4"
   ]
  },
  {
   "cell_type": "code",
   "execution_count": 84,
   "metadata": {},
   "outputs": [],
   "source": [
    "top_3_cities_with_jobs.registerTempTable(\"top_3_cities_with_jobs\")"
   ]
  },
  {
   "cell_type": "code",
   "execution_count": 87,
   "metadata": {},
   "outputs": [],
   "source": [
    "sql_query = \"\"\"\n",
    "SELECT job_title, company_name, jobs.city\n",
    "FROM jobs\n",
    "INNER JOIN top_3_cities_with_jobs\n",
    "ON jobs.city = top_3_cities_with_jobs.city\n",
    "\"\"\""
   ]
  },
  {
   "cell_type": "code",
   "execution_count": 89,
   "metadata": {},
   "outputs": [
    {
     "name": "stdout",
     "output_type": "stream",
     "text": [
      "+--------------------+------------------+-------+\n",
      "|           job_title|      company_name|   city|\n",
      "+--------------------+------------------+-------+\n",
      "|Junior Software D...|        Skillstorm|Chicago|\n",
      "|Warehouse Operato...|Amazon Fulfillment| Boston|\n",
      "+--------------------+------------------+-------+\n",
      "only showing top 2 rows\n",
      "\n"
     ]
    }
   ],
   "source": [
    "spark.sql(sql_query).show(2)"
   ]
  },
  {
   "cell_type": "code",
   "execution_count": 92,
   "metadata": {},
   "outputs": [
    {
     "name": "stdout",
     "output_type": "stream",
     "text": [
      "+--------------------+--------------------+---------+\n",
      "|           job_title|        company_name|     city|\n",
      "+--------------------+--------------------+---------+\n",
      "|Junior Software D...|          Skillstorm|  Chicago|\n",
      "|Warehouse Operato...|  Amazon Fulfillment|   Boston|\n",
      "|Amazon Warehouse ...|  Amazon Fulfillment|   Boston|\n",
      "|Delivery Driver- ...|Industrial Staffi...|Charlotte|\n",
      "|Global Clinical L...|                GPAC|   Boston|\n",
      "|Amazon Warehouse ...|  Amazon Fulfillment|   Boston|\n",
      "|Telephone Line Wo...|Chicago Transit A...|  Chicago|\n",
      "|Full-time/Part-ti...|  Amazon Fulfillment|   Boston|\n",
      "|Project Manager (...|             Intrado|  Chicago|\n",
      "|Amazon Prime Shopper|  Amazon Fulfillment|   Boston|\n",
      "|Customer Service ...|   Mommy Jobs Online|Charlotte|\n",
      "|Forklift Operator...|  Abacus Corporation|Charlotte|\n",
      "|Registered Nurse ...|Favorite Healthca...|   Boston|\n",
      "|         UX Designer|Signature Consult...|Charlotte|\n",
      "|Senior Sales Manager|PointOne Recruiti...|  Chicago|\n",
      "|     Warehouse Staff|                Levy|Charlotte|\n",
      "|      GIS Technician|            Kavaliro|Charlotte|\n",
      "|Amazon Warehouse ...|  Amazon Fulfillment|   Boston|\n",
      "|PHARMA STAFF ACCO...|                GPAC|   Boston|\n",
      "|Amazon Warehouse ...|  Amazon Fulfillment|   Boston|\n",
      "+--------------------+--------------------+---------+\n",
      "only showing top 20 rows\n",
      "\n"
     ]
    }
   ],
   "source": [
    "df.join(top_3_cities_with_jobs, \"city\", \"inner\")[[\"job_title\", \"company_name\", \"city\"]].show()"
   ]
  },
  {
   "cell_type": "markdown",
   "metadata": {},
   "source": [
    "### Pandas <=> Spark"
   ]
  },
  {
   "cell_type": "code",
   "execution_count": 93,
   "metadata": {},
   "outputs": [],
   "source": [
    "import pandas as pd\n"
   ]
  },
  {
   "cell_type": "code",
   "execution_count": 95,
   "metadata": {},
   "outputs": [
    {
     "data": {
      "text/html": [
       "<div>\n",
       "<style scoped>\n",
       "    .dataframe tbody tr th:only-of-type {\n",
       "        vertical-align: middle;\n",
       "    }\n",
       "\n",
       "    .dataframe tbody tr th {\n",
       "        vertical-align: top;\n",
       "    }\n",
       "\n",
       "    .dataframe thead th {\n",
       "        text-align: right;\n",
       "    }\n",
       "</style>\n",
       "<table border=\"1\" class=\"dataframe\">\n",
       "  <thead>\n",
       "    <tr style=\"text-align: right;\">\n",
       "      <th></th>\n",
       "      <th>user_id</th>\n",
       "      <th>age</th>\n",
       "    </tr>\n",
       "  </thead>\n",
       "  <tbody>\n",
       "    <tr>\n",
       "      <th>0</th>\n",
       "      <td>u0</td>\n",
       "      <td>28</td>\n",
       "    </tr>\n",
       "    <tr>\n",
       "      <th>1</th>\n",
       "      <td>u1</td>\n",
       "      <td>50</td>\n",
       "    </tr>\n",
       "  </tbody>\n",
       "</table>\n",
       "</div>"
      ],
      "text/plain": [
       "  user_id  age\n",
       "0      u0   28\n",
       "1      u1   50"
      ]
     },
     "execution_count": 95,
     "metadata": {},
     "output_type": "execute_result"
    }
   ],
   "source": [
    "pd_df = pd.DataFrame({\n",
    "    \"user_id\": [\"u0\", \"u1\"],\n",
    "    \"age\": [28, 50]\n",
    "})\n",
    "pd_df"
   ]
  },
  {
   "cell_type": "code",
   "execution_count": 98,
   "metadata": {},
   "outputs": [
    {
     "name": "stdout",
     "output_type": "stream",
     "text": [
      "+-------+---+\n",
      "|user_id|age|\n",
      "+-------+---+\n",
      "|     u0| 28|\n",
      "|     u1| 50|\n",
      "+-------+---+\n",
      "\n"
     ]
    }
   ],
   "source": [
    "# Pandas to spark\n",
    "spark_df = spark.createDataFrame(pd_df)\n",
    "spark_df.show()"
   ]
  },
  {
   "cell_type": "code",
   "execution_count": 99,
   "metadata": {},
   "outputs": [
    {
     "data": {
      "text/html": [
       "<div>\n",
       "<style scoped>\n",
       "    .dataframe tbody tr th:only-of-type {\n",
       "        vertical-align: middle;\n",
       "    }\n",
       "\n",
       "    .dataframe tbody tr th {\n",
       "        vertical-align: top;\n",
       "    }\n",
       "\n",
       "    .dataframe thead th {\n",
       "        text-align: right;\n",
       "    }\n",
       "</style>\n",
       "<table border=\"1\" class=\"dataframe\">\n",
       "  <thead>\n",
       "    <tr style=\"text-align: right;\">\n",
       "      <th></th>\n",
       "      <th>user_id</th>\n",
       "      <th>age</th>\n",
       "    </tr>\n",
       "  </thead>\n",
       "  <tbody>\n",
       "    <tr>\n",
       "      <th>0</th>\n",
       "      <td>u0</td>\n",
       "      <td>28</td>\n",
       "    </tr>\n",
       "    <tr>\n",
       "      <th>1</th>\n",
       "      <td>u1</td>\n",
       "      <td>50</td>\n",
       "    </tr>\n",
       "  </tbody>\n",
       "</table>\n",
       "</div>"
      ],
      "text/plain": [
       "  user_id  age\n",
       "0      u0   28\n",
       "1      u1   50"
      ]
     },
     "execution_count": 99,
     "metadata": {},
     "output_type": "execute_result"
    }
   ],
   "source": [
    "# Spark to Pandas\n",
    "# Require PyArrow\n",
    "spark_df.toPandas()"
   ]
  },
  {
   "cell_type": "markdown",
   "metadata": {},
   "source": [
    "## UDF"
   ]
  },
  {
   "cell_type": "code",
   "execution_count": 111,
   "metadata": {},
   "outputs": [],
   "source": [
    "def clean_str(s):\n",
    "    return s.lower().replace(\" \", \"_\")"
   ]
  },
  {
   "cell_type": "code",
   "execution_count": 108,
   "metadata": {},
   "outputs": [
    {
     "data": {
      "text/plain": [
       "'junior_software_dev'"
      ]
     },
     "execution_count": 108,
     "metadata": {},
     "output_type": "execute_result"
    }
   ],
   "source": [
    "clean_str(\"Junior Software Dev\")"
   ]
  },
  {
   "cell_type": "code",
   "execution_count": 112,
   "metadata": {},
   "outputs": [
    {
     "data": {
      "text/html": [
       "<div>\n",
       "<style scoped>\n",
       "    .dataframe tbody tr th:only-of-type {\n",
       "        vertical-align: middle;\n",
       "    }\n",
       "\n",
       "    .dataframe tbody tr th {\n",
       "        vertical-align: top;\n",
       "    }\n",
       "\n",
       "    .dataframe thead th {\n",
       "        text-align: right;\n",
       "    }\n",
       "</style>\n",
       "<table border=\"1\" class=\"dataframe\">\n",
       "  <thead>\n",
       "    <tr style=\"text-align: right;\">\n",
       "      <th></th>\n",
       "      <th>job_title</th>\n",
       "    </tr>\n",
       "  </thead>\n",
       "  <tbody>\n",
       "    <tr>\n",
       "      <th>0</th>\n",
       "      <td>Junior Software Developer</td>\n",
       "    </tr>\n",
       "    <tr>\n",
       "      <th>1</th>\n",
       "      <td>Data Analyst</td>\n",
       "    </tr>\n",
       "  </tbody>\n",
       "</table>\n",
       "</div>"
      ],
      "text/plain": [
       "                   job_title\n",
       "0  Junior Software Developer\n",
       "1               Data Analyst"
      ]
     },
     "execution_count": 112,
     "metadata": {},
     "output_type": "execute_result"
    }
   ],
   "source": [
    "pd_df = pd.DataFrame({\n",
    "    \"job_title\": [\"Junior Software Developer\", \"Data Analyst\"]\n",
    "})\n",
    "pd_df"
   ]
  },
  {
   "cell_type": "code",
   "execution_count": 114,
   "metadata": {},
   "outputs": [
    {
     "data": {
      "text/html": [
       "<div>\n",
       "<style scoped>\n",
       "    .dataframe tbody tr th:only-of-type {\n",
       "        vertical-align: middle;\n",
       "    }\n",
       "\n",
       "    .dataframe tbody tr th {\n",
       "        vertical-align: top;\n",
       "    }\n",
       "\n",
       "    .dataframe thead th {\n",
       "        text-align: right;\n",
       "    }\n",
       "</style>\n",
       "<table border=\"1\" class=\"dataframe\">\n",
       "  <thead>\n",
       "    <tr style=\"text-align: right;\">\n",
       "      <th></th>\n",
       "      <th>job_title</th>\n",
       "      <th>job_title_fixed</th>\n",
       "    </tr>\n",
       "  </thead>\n",
       "  <tbody>\n",
       "    <tr>\n",
       "      <th>0</th>\n",
       "      <td>Junior Software Developer</td>\n",
       "      <td>junior_software_developer</td>\n",
       "    </tr>\n",
       "    <tr>\n",
       "      <th>1</th>\n",
       "      <td>Data Analyst</td>\n",
       "      <td>data_analyst</td>\n",
       "    </tr>\n",
       "  </tbody>\n",
       "</table>\n",
       "</div>"
      ],
      "text/plain": [
       "                   job_title            job_title_fixed\n",
       "0  Junior Software Developer  junior_software_developer\n",
       "1               Data Analyst               data_analyst"
      ]
     },
     "execution_count": 114,
     "metadata": {},
     "output_type": "execute_result"
    }
   ],
   "source": [
    "pd_df[\"job_title_fixed\"] = pd_df[\"job_title\"].apply(clean_str)\n",
    "pd_df"
   ]
  },
  {
   "cell_type": "code",
   "execution_count": 115,
   "metadata": {},
   "outputs": [],
   "source": [
    "clean_str_udf = fn.udf(clean_str)"
   ]
  },
  {
   "cell_type": "code",
   "execution_count": 121,
   "metadata": {},
   "outputs": [
    {
     "name": "stdout",
     "output_type": "stream",
     "text": [
      "+--------------------+--------------------+\n",
      "|           job_title|     job_title_fixed|\n",
      "+--------------------+--------------------+\n",
      "|Asphalt/Concrete ...|asphalt/concrete_...|\n",
      "|Amazon Warehouse ...|amazon_warehouse_...|\n",
      "+--------------------+--------------------+\n",
      "only showing top 2 rows\n",
      "\n"
     ]
    }
   ],
   "source": [
    "df.select(\"job_title\",\n",
    "          clean_str_udf(df[\"job_title\"]).alias(\"job_title_fixed\")\n",
    "         ).show(2)\n",
    "\n"
   ]
  },
  {
   "cell_type": "code",
   "execution_count": 123,
   "metadata": {},
   "outputs": [
    {
     "name": "stdout",
     "output_type": "stream",
     "text": [
      "+--------------------+--------------------+\n",
      "|           job_title|     job_title_fixed|\n",
      "+--------------------+--------------------+\n",
      "|Asphalt/Concrete ...|asphalt/concrete_...|\n",
      "|Amazon Warehouse ...|amazon_warehouse_...|\n",
      "+--------------------+--------------------+\n",
      "\n"
     ]
    }
   ],
   "source": [
    "spark.udf.register(\"clean_str\", clean_str)\n",
    "sql_query = \"\"\"\n",
    "SELECT job_title, clean_str(job_title) AS job_title_fixed\n",
    "FROM jobs\n",
    "LIMIT 2\n",
    "\"\"\"\n",
    "spark.sql(sql_query).show()"
   ]
  },
  {
   "cell_type": "code",
   "execution_count": null,
   "metadata": {},
   "outputs": [],
   "source": []
  }
 ],
 "metadata": {
  "kernelspec": {
   "display_name": "Python 3",
   "language": "python",
   "name": "python3"
  },
  "language_info": {
   "codemirror_mode": {
    "name": "ipython",
    "version": 3
   },
   "file_extension": ".py",
   "mimetype": "text/x-python",
   "name": "python",
   "nbconvert_exporter": "python",
   "pygments_lexer": "ipython3",
   "version": "3.8.5"
  },
  "toc": {
   "base_numbering": 1,
   "nav_menu": {},
   "number_sections": true,
   "sideBar": true,
   "skip_h1_title": false,
   "title_cell": "Table of Contents",
   "title_sidebar": "Contents",
   "toc_cell": false,
   "toc_position": {},
   "toc_section_display": true,
   "toc_window_display": false
  }
 },
 "nbformat": 4,
 "nbformat_minor": 4
}
