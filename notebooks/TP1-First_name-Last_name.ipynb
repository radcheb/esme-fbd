{
 "cells": [
  {
   "cell_type": "markdown",
   "metadata": {},
   "source": [
    "# LAB 1: Spark SQL\n",
    "\n"
   ]
  },
  {
   "cell_type": "code",
   "execution_count": 2,
   "metadata": {},
   "outputs": [],
   "source": [
    "from pyspark.sql import SparkSession\n",
    "from pyspark.sql import functions as sparkfn\n",
    "\n",
    "spark = SparkSession.builder.getOrCreate()"
   ]
  },
  {
   "cell_type": "markdown",
   "metadata": {},
   "source": [
    "## Loading Data"
   ]
  },
  {
   "cell_type": "code",
   "execution_count": 14,
   "metadata": {
    "scrolled": false
   },
   "outputs": [
    {
     "name": "stdout",
     "output_type": "stream",
     "text": [
      "--2021-12-04 08:09:35--  https://github.com/radcheb/esme-fbd/raw/master/data/raw/marketing_sample_for_careerbuilder_usa-careerbuilder_job_listing__20200401_20200630__30k_data.json.gz\n",
      "Resolving github.com (github.com)... 140.82.121.3\n",
      "Connecting to github.com (github.com)|140.82.121.3|:443... connected.\n",
      "HTTP request sent, awaiting response... 302 Found\n",
      "Location: https://raw.githubusercontent.com/radcheb/esme-fbd/master/data/raw/marketing_sample_for_careerbuilder_usa-careerbuilder_job_listing__20200401_20200630__30k_data.json.gz [following]\n",
      "--2021-12-04 08:09:35--  https://raw.githubusercontent.com/radcheb/esme-fbd/master/data/raw/marketing_sample_for_careerbuilder_usa-careerbuilder_job_listing__20200401_20200630__30k_data.json.gz\n",
      "Resolving raw.githubusercontent.com (raw.githubusercontent.com)... 185.199.108.133, 185.199.109.133, 185.199.110.133, ...\n",
      "Connecting to raw.githubusercontent.com (raw.githubusercontent.com)|185.199.108.133|:443... connected.\n",
      "HTTP request sent, awaiting response... 200 OK\n",
      "Length: 43272757 (41M) [application/octet-stream]\n",
      "Saving to: ‘data.json.gz’\n",
      "\n",
      "data.json.gz        100%[===================>]  41.27M  55.8MB/s    in 0.7s    \n",
      "\n",
      "2021-12-04 08:09:36 (55.8 MB/s) - ‘data.json.gz’ saved [43272757/43272757]\n",
      "\n"
     ]
    }
   ],
   "source": [
    "!wget https://github.com/radcheb/esme-fbd/raw/master/data/raw/marketing_sample_for_careerbuilder_usa-careerbuilder_job_listing__20200401_20200630__30k_data.json.gz -O data.json.gz\n",
    "!mkdir -p data/json && cp data.json.gz data/json\n"
   ]
  },
  {
   "cell_type": "markdown",
   "metadata": {},
   "source": [
    "#### A JSON data file si located in `data/json`, you need to load it into a variable `raw_df`."
   ]
  },
  {
   "cell_type": "code",
   "execution_count": 4,
   "metadata": {},
   "outputs": [],
   "source": [
    "# #TODO\n",
    "raw_df = #<Your code HERE>"
   ]
  },
  {
   "cell_type": "markdown",
   "metadata": {},
   "source": [
    "## Describe the Data"
   ]
  },
  {
   "cell_type": "code",
   "execution_count": 18,
   "metadata": {},
   "outputs": [
    {
     "name": "stdout",
     "output_type": "stream",
     "text": [
      "root\n",
      " |-- city: string (nullable = true)\n",
      " |-- company_description: string (nullable = true)\n",
      " |-- company_name: string (nullable = true)\n",
      " |-- contact_email: string (nullable = true)\n",
      " |-- country: string (nullable = true)\n",
      " |-- crawl_timestamp: string (nullable = true)\n",
      " |-- domain: string (nullable = true)\n",
      " |-- duplicate_status: string (nullable = true)\n",
      " |-- fitness_score: long (nullable = true)\n",
      " |-- geo: string (nullable = true)\n",
      " |-- has_expired: string (nullable = true)\n",
      " |-- html_job_description: string (nullable = true)\n",
      " |-- inferred_city: string (nullable = true)\n",
      " |-- inferred_country: string (nullable = true)\n",
      " |-- inferred_iso2_lang_code: string (nullable = true)\n",
      " |-- inferred_iso3_lang_code: string (nullable = true)\n",
      " |-- inferred_salary_currency: string (nullable = true)\n",
      " |-- inferred_salary_from: string (nullable = true)\n",
      " |-- inferred_salary_time_unit: string (nullable = true)\n",
      " |-- inferred_salary_to: string (nullable = true)\n",
      " |-- inferred_state: string (nullable = true)\n",
      " |-- is_consumed_job: string (nullable = true)\n",
      " |-- job_board: string (nullable = true)\n",
      " |-- job_description: string (nullable = true)\n",
      " |-- job_post_lang: string (nullable = true)\n",
      " |-- job_requirements: string (nullable = true)\n",
      " |-- job_title: string (nullable = true)\n",
      " |-- job_type: string (nullable = true)\n",
      " |-- last_expiry_check_date: string (nullable = true)\n",
      " |-- latest_expiry_check_date: string (nullable = true)\n",
      " |-- post_date: string (nullable = true)\n",
      " |-- postdate_in_indexname_format: string (nullable = true)\n",
      " |-- postdate_yyyymmdd: string (nullable = true)\n",
      " |-- salary_offered: string (nullable = true)\n",
      " |-- site_name: string (nullable = true)\n",
      " |-- state: string (nullable = true)\n",
      " |-- test_contact_email: string (nullable = true)\n",
      " |-- uniq_id: string (nullable = true)\n",
      " |-- url: string (nullable = true)\n",
      " |-- valid_through: string (nullable = true)\n",
      "\n"
     ]
    }
   ],
   "source": [
    "raw_df.printSchema()"
   ]
  },
  {
   "cell_type": "markdown",
   "metadata": {},
   "source": [
    "#### How many columns"
   ]
  },
  {
   "cell_type": "code",
   "execution_count": null,
   "metadata": {},
   "outputs": [],
   "source": [
    "# You code here"
   ]
  },
  {
   "cell_type": "markdown",
   "metadata": {},
   "source": [
    "#### How many rows in Dataframe"
   ]
  },
  {
   "cell_type": "code",
   "execution_count": 16,
   "metadata": {},
   "outputs": [],
   "source": [
    "# You code here"
   ]
  },
  {
   "cell_type": "markdown",
   "metadata": {},
   "source": [
    "## Analyze Data"
   ]
  },
  {
   "cell_type": "markdown",
   "metadata": {},
   "source": [
    "### What are the top 10 cities (city) with the most number of job offers"
   ]
  },
  {
   "cell_type": "code",
   "execution_count": null,
   "metadata": {},
   "outputs": [],
   "source": [
    "### Your code here\n",
    "top_10_cities = "
   ]
  },
  {
   "cell_type": "markdown",
   "metadata": {},
   "source": [
    "### What are the top 5 companies (company_name) with the most number of job offers"
   ]
  },
  {
   "cell_type": "code",
   "execution_count": null,
   "metadata": {},
   "outputs": [],
   "source": [
    "### Your code here\n",
    "top_10_companies = "
   ]
  },
  {
   "cell_type": "markdown",
   "metadata": {},
   "source": [
    "### Could you find a job post of \"Embedded Software Engineer\" ? How many offers are they"
   ]
  },
  {
   "cell_type": "code",
   "execution_count": null,
   "metadata": {},
   "outputs": [],
   "source": [
    "### Your code here\n"
   ]
  },
  {
   "cell_type": "markdown",
   "metadata": {},
   "source": [
    "### Could you find a \"Embedded Software Engineer\" in one of the top 5 companies ?"
   ]
  },
  {
   "cell_type": "code",
   "execution_count": null,
   "metadata": {},
   "outputs": [],
   "source": [
    "### Your code here\n"
   ]
  },
  {
   "cell_type": "markdown",
   "metadata": {},
   "source": [
    "### Could you find a \"Embedded Software Engineer\" in one of the top 10 cities ?"
   ]
  },
  {
   "cell_type": "code",
   "execution_count": null,
   "metadata": {},
   "outputs": [],
   "source": [
    "### Your code here\n"
   ]
  },
  {
   "cell_type": "markdown",
   "metadata": {},
   "source": [
    "### Bonus: What is the easiest job to find (job existing in almost all cities) ?"
   ]
  },
  {
   "cell_type": "code",
   "execution_count": null,
   "metadata": {},
   "outputs": [],
   "source": [
    "### Your code here\n"
   ]
  }
 ],
 "metadata": {
  "kernelspec": {
   "display_name": "Python 3",
   "language": "python",
   "name": "python3"
  },
  "language_info": {
   "codemirror_mode": {
    "name": "ipython",
    "version": 3
   },
   "file_extension": ".py",
   "mimetype": "text/x-python",
   "name": "python",
   "nbconvert_exporter": "python",
   "pygments_lexer": "ipython3",
   "version": "3.8.5"
  },
  "toc": {
   "base_numbering": 1,
   "nav_menu": {},
   "number_sections": true,
   "sideBar": true,
   "skip_h1_title": false,
   "title_cell": "Table of Contents",
   "title_sidebar": "Contents",
   "toc_cell": false,
   "toc_position": {},
   "toc_section_display": true,
   "toc_window_display": false
  }
 },
 "nbformat": 4,
 "nbformat_minor": 4
}
